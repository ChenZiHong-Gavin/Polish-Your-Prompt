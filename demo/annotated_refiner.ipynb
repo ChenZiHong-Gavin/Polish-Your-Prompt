{
 "cells": [
  {
   "cell_type": "markdown",
   "source": [
    "# Annotated Refiner"
   ],
   "metadata": {
    "collapsed": false
   },
   "id": "6de4735ee3e6962b"
  },
  {
   "cell_type": "markdown",
   "source": [
    "Refine your prompt with human annotations."
   ],
   "metadata": {
    "collapsed": false
   },
   "id": "40f697df5a61af9"
  },
  {
   "cell_type": "code",
   "outputs": [],
   "source": [
    "from polish_your_prompt.core import AnnotatedRefiner"
   ],
   "metadata": {
    "collapsed": false,
    "ExecuteTime": {
     "end_time": "2024-07-08T07:06:50.569973Z",
     "start_time": "2024-07-08T07:06:50.406447Z"
    }
   },
   "id": "5afecce0b3d5448f",
   "execution_count": 1
  },
  {
   "cell_type": "code",
   "outputs": [
    {
     "name": "stdout",
     "output_type": "stream",
     "text": [
      "Help me with my English homework.\n"
     ]
    }
   ],
   "source": [
    "refiner = AnnotatedRefiner()\n",
    "refiner.refine(\"help me do my homework\",\n",
    "                     \"You are a student who needs help with homework. You are struggling with a math problem \"\n",
    "                     \"and need assistance.\",\n",
    "                     {\"math\": \"not math, but english\"})"
   ],
   "metadata": {
    "collapsed": false,
    "ExecuteTime": {
     "end_time": "2024-07-08T07:06:51.634105Z",
     "start_time": "2024-07-08T07:06:50.571328Z"
    }
   },
   "id": "897e1df6e6f8429f",
   "execution_count": 2
  },
  {
   "cell_type": "code",
   "execution_count": 2,
   "id": "initial_id",
   "metadata": {
    "collapsed": true,
    "ExecuteTime": {
     "end_time": "2024-07-08T07:06:51.649936Z",
     "start_time": "2024-07-08T07:06:51.635262Z"
    }
   },
   "outputs": [],
   "source": []
  }
 ],
 "metadata": {
  "kernelspec": {
   "display_name": "Python 3",
   "language": "python",
   "name": "python3"
  },
  "language_info": {
   "codemirror_mode": {
    "name": "ipython",
    "version": 2
   },
   "file_extension": ".py",
   "mimetype": "text/x-python",
   "name": "python",
   "nbconvert_exporter": "python",
   "pygments_lexer": "ipython2",
   "version": "2.7.6"
  }
 },
 "nbformat": 4,
 "nbformat_minor": 5
}
