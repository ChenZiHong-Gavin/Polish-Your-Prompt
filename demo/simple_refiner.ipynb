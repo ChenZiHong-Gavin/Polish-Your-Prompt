{
 "cells": [
  {
   "cell_type": "markdown",
   "source": [
    "# Simple Refiner"
   ],
   "metadata": {
    "collapsed": false
   },
   "id": "aa7a48d929686fde"
  },
  {
   "cell_type": "markdown",
   "source": [
    "Refine the prompt with a fixed template."
   ],
   "metadata": {
    "collapsed": false
   },
   "id": "c480c894dffce08d"
  },
  {
   "cell_type": "code",
   "outputs": [],
   "source": [
    "from core import SimpleRefiner\n",
    "from templates import *"
   ],
   "metadata": {
    "collapsed": false,
    "ExecuteTime": {
     "end_time": "2024-07-08T03:05:03.391534Z",
     "start_time": "2024-07-08T03:05:03.388377Z"
    }
   },
   "id": "fb9a960d39eca7b1",
   "execution_count": 3
  },
  {
   "cell_type": "markdown",
   "source": [
    "## Use the default prefix template"
   ],
   "metadata": {
    "collapsed": false
   },
   "id": "a6ac66340eceaaa9"
  },
  {
   "cell_type": "code",
   "outputs": [
    {
     "data": {
      "text/plain": "'You are a professional prompt engineer.\\nThink carefully, you need to refine the following text to make it more formal and professional.You need to add more details to the text for better generation.\\nPlease directly output the refined text. Do not include any additional information.\\nRefine the following text: '"
     },
     "execution_count": 4,
     "metadata": {},
     "output_type": "execute_result"
    }
   ],
   "source": [
    "refiner = SimpleRefiner()\n",
    "SIMPLE_REFINER_PREFIX_PROMPT"
   ],
   "metadata": {
    "collapsed": false,
    "ExecuteTime": {
     "end_time": "2024-07-08T03:05:03.422025Z",
     "start_time": "2024-07-08T03:05:03.410184Z"
    }
   },
   "id": "9299e756abab9805",
   "execution_count": 4
  },
  {
   "cell_type": "code",
   "outputs": [
    {
     "data": {
      "text/plain": "'Please compose a comprehensive blog post on the programming language Python, highlighting its key features, applications, and benefits. Additionally, provide insights on its versatility, ease of use, and popularity within the software development community. Thank you.'"
     },
     "execution_count": 5,
     "metadata": {},
     "output_type": "execute_result"
    }
   ],
   "source": [
    "prompt = \"Write a blog about Python for me.\"\n",
    "refiner.refine(prompt)"
   ],
   "metadata": {
    "collapsed": false,
    "ExecuteTime": {
     "end_time": "2024-07-08T03:05:07.800265Z",
     "start_time": "2024-07-08T03:05:03.426308Z"
    }
   },
   "id": "73e25aeba12accc4",
   "execution_count": 5
  },
  {
   "cell_type": "markdown",
   "source": [
    "## Use custom prefix template"
   ],
   "metadata": {
    "collapsed": false
   },
   "id": "dc75d4a03dfb443e"
  },
  {
   "cell_type": "code",
   "outputs": [
    {
     "data": {
      "text/plain": "'Please write a blog post about Python.'"
     },
     "execution_count": 6,
     "metadata": {},
     "output_type": "execute_result"
    }
   ],
   "source": [
    "template = \"Make the prompt more formal: \"\n",
    "refiner.refine(prompt, template)"
   ],
   "metadata": {
    "collapsed": false,
    "ExecuteTime": {
     "end_time": "2024-07-08T03:11:07.500700Z",
     "start_time": "2024-07-08T03:11:04.293640Z"
    }
   },
   "id": "10b34ed47509a3c2",
   "execution_count": 6
  },
  {
   "cell_type": "markdown",
   "source": [],
   "metadata": {
    "collapsed": false
   },
   "id": "c8dff2979a69ee12"
  }
 ],
 "metadata": {
  "kernelspec": {
   "display_name": "Python 3",
   "language": "python",
   "name": "python3"
  },
  "language_info": {
   "codemirror_mode": {
    "name": "ipython",
    "version": 2
   },
   "file_extension": ".py",
   "mimetype": "text/x-python",
   "name": "python",
   "nbconvert_exporter": "python",
   "pygments_lexer": "ipython2",
   "version": "2.7.6"
  }
 },
 "nbformat": 4,
 "nbformat_minor": 5
}
