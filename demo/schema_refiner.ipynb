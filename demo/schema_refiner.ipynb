{
 "cells": [
  {
   "cell_type": "markdown",
   "source": [
    "# Schema Refiner"
   ],
   "metadata": {
    "collapsed": false
   },
   "id": "d9d09ff224c29abd"
  },
  {
   "cell_type": "markdown",
   "source": [
    "Refine your prompt with a schema. "
   ],
   "metadata": {
    "collapsed": false
   },
   "id": "3696ffe605645540"
  },
  {
   "cell_type": "code",
   "outputs": [],
   "source": [
    "from core import SchemaRefiner, MODE\n",
    "from schemas import  *"
   ],
   "metadata": {
    "collapsed": false,
    "ExecuteTime": {
     "end_time": "2024-07-08T06:58:42.985992Z",
     "start_time": "2024-07-08T06:58:42.982760Z"
    }
   },
   "id": "452a2d58bcf769c5",
   "execution_count": 19
  },
  {
   "cell_type": "markdown",
   "source": [
    "## Schemas"
   ],
   "metadata": {
    "collapsed": false
   },
   "id": "bd76ae7af85b2298"
  },
  {
   "cell_type": "markdown",
   "source": [
    "A schema maybe a widely used prompt framework or a custom schema that you have created.\n",
    "For example, CO-STAR, BROKE, etc.\n",
    "We provide over 10 schemas that you can use."
   ],
   "metadata": {
    "collapsed": false
   },
   "id": "7b96885bf2d70bf2"
  },
  {
   "cell_type": "code",
   "outputs": [
    {
     "data": {
      "text/plain": "'CO-STAR is a prompt template proposed by Sheila Teo in Singapore’s first ever GPT-4 Prompt Engineering competition organized by the Government Technology Agency of Singapore (GovTech). Check out the [article](https://towardsdatascience.com/how-i-won-singapores-gpt-4-prompt-engineering-competition-34c195a93d41) for more details.'"
     },
     "execution_count": 20,
     "metadata": {},
     "output_type": "execute_result"
    }
   ],
   "source": [
    "COSTAR().description"
   ],
   "metadata": {
    "collapsed": false,
    "ExecuteTime": {
     "end_time": "2024-07-08T06:58:43.030101Z",
     "start_time": "2024-07-08T06:58:43.003657Z"
    }
   },
   "id": "7c9e8a9619bb6a1a",
   "execution_count": 20
  },
  {
   "cell_type": "markdown",
   "source": [
    "## Generate a structured prompt in one step"
   ],
   "metadata": {
    "collapsed": false
   },
   "id": "7b3f225ed13d9d20"
  },
  {
   "cell_type": "markdown",
   "source": [
    "In this mode, the refiner will generate a structured prompt according to the schema at one time."
   ],
   "metadata": {
    "collapsed": false
   },
   "id": "ebfa0ead64a2a2a0"
  },
  {
   "cell_type": "code",
   "outputs": [
    {
     "data": {
      "text/plain": "({'Context': 'You are a student in high school taking a math class.',\n  'Objective': 'Seek assistance with completing your homework assignment.',\n  'Style': 'Informal student seeking help.',\n  'Tone': 'Polite and respectful.',\n  'Audience': 'Classmate or tutor who can provide guidance.',\n  'Response': 'Clear explanation of the homework task and request for assistance.'},\n '# CONTEXT #\\nYou are a student in high school taking a math class.\\n# OBJECTIVE #\\nSeek assistance with completing your homework assignment.\\n# STYLE #\\nInformal student seeking help.\\n# TONE #\\nPolite and respectful.\\n# AUDIENCE #\\nClassmate or tutor who can provide guidance.\\n# RESPONSE #\\nClear explanation of the homework task and request for assistance.\\n')"
     },
     "execution_count": 21,
     "metadata": {},
     "output_type": "execute_result"
    }
   ],
   "source": [
    "prompt = \"help me do my homework\"\n",
    "refiner = SchemaRefiner()\n",
    "structure, prompt = refiner.refine(prompt, schema=COSTAR(), mode=MODE.ONE_STEP)\n",
    "structure, prompt"
   ],
   "metadata": {
    "collapsed": false,
    "ExecuteTime": {
     "end_time": "2024-07-08T06:58:44.839372Z",
     "start_time": "2024-07-08T06:58:43.063528Z"
    }
   },
   "id": "c92312c74c2cb16b",
   "execution_count": 21
  },
  {
   "cell_type": "markdown",
   "source": [
    "## Generate a structured prompt in multiple steps"
   ],
   "metadata": {
    "collapsed": false
   },
   "id": "5e4e1ce8638713f"
  },
  {
   "cell_type": "markdown",
   "source": [
    "In this mode, the refiner will generate a specific part of the structured prompt at a time."
   ],
   "metadata": {
    "collapsed": false
   },
   "id": "aad6ac04cf6dda4d"
  },
  {
   "cell_type": "code",
   "outputs": [
    {
     "data": {
      "text/plain": "({'Context': 'You are a student in high school taking a math class.',\n  'Objective': 'Seek assistance with completing your homework assignment.',\n  'Style': 'Informal student seeking help.',\n  'Tone': 'Polite and respectful.',\n  'Audience': 'Classmate or tutor who can provide guidance.',\n  'Response': 'Clear explanation of the homework task and request for assistance.'},\n '# CONTEXT #\\nYou are a student in high school taking a math class.\\n# OBJECTIVE #\\nSeek assistance with completing your homework assignment.\\n# STYLE #\\nInformal student seeking help.\\n# TONE #\\nPolite and respectful.\\n# AUDIENCE #\\nClassmate or tutor who can provide guidance.\\n# RESPONSE #\\nClear explanation of the homework task and request for assistance.\\n')"
     },
     "execution_count": 22,
     "metadata": {},
     "output_type": "execute_result"
    }
   ],
   "source": [
    "prompt = \"help me do my homework\"\n",
    "refiner = SchemaRefiner()\n",
    "structure, prompt = refiner.refine(prompt, schema=COSTAR(), mode=MODE.STEP_BY_STEP)\n",
    "structure, prompt"
   ],
   "metadata": {
    "collapsed": false,
    "ExecuteTime": {
     "end_time": "2024-07-08T06:58:46.461583Z",
     "start_time": "2024-07-08T06:58:44.840459Z"
    }
   },
   "id": "7ddbe3ced8ed7bfc",
   "execution_count": 22
  },
  {
   "cell_type": "code",
   "execution_count": 22,
   "id": "initial_id",
   "metadata": {
    "collapsed": true,
    "ExecuteTime": {
     "end_time": "2024-07-08T06:58:46.477084Z",
     "start_time": "2024-07-08T06:58:46.462718Z"
    }
   },
   "outputs": [],
   "source": []
  }
 ],
 "metadata": {
  "kernelspec": {
   "display_name": "Python 3",
   "language": "python",
   "name": "python3"
  },
  "language_info": {
   "codemirror_mode": {
    "name": "ipython",
    "version": 2
   },
   "file_extension": ".py",
   "mimetype": "text/x-python",
   "name": "python",
   "nbconvert_exporter": "python",
   "pygments_lexer": "ipython2",
   "version": "2.7.6"
  }
 },
 "nbformat": 4,
 "nbformat_minor": 5
}
